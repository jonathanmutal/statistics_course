{
 "cells": [
  {
   "cell_type": "markdown",
   "metadata": {},
   "source": [
    "# Hypotheses testing"
   ]
  },
  {
   "cell_type": "markdown",
   "metadata": {},
   "source": [
    "Verify with 5% significance if the city of San Diego should have the 3rd symbol to be h according to the Köppen–Geiger climate classification system using temperature data from the year 2016.\n",
    "\n",
    "<b>Symbol to be h, the annual average temperature should be above 18ºC.</b>"
   ]
  },
  {
   "cell_type": "markdown",
   "metadata": {},
   "source": [
    "### Normality testing"
   ]
  },
  {
   "cell_type": "code",
   "execution_count": 84,
   "metadata": {},
   "outputs": [
    {
     "name": "stdout",
     "output_type": "stream",
     "text": [
      "Populating the interactive namespace from numpy and matplotlib\n"
     ]
    },
    {
     "name": "stderr",
     "output_type": "stream",
     "text": [
      "/home/jonathan/.virtualenvs/statistic/lib/python3.6/site-packages/IPython/core/magics/pylab.py:160: UserWarning: pylab import has clobbered these variables: ['norm']\n",
      "`%matplotlib` prevents importing * from pylab and numpy\n",
      "  \"\\n`%matplotlib` prevents importing * from pylab and numpy\"\n"
     ]
    }
   ],
   "source": [
    "%pylab inline\n",
    "import pandas as pd\n",
    "from scipy import stats"
   ]
  },
  {
   "cell_type": "code",
   "execution_count": 4,
   "metadata": {},
   "outputs": [
    {
     "data": {
      "text/html": [
       "<div>\n",
       "<style scoped>\n",
       "    .dataframe tbody tr th:only-of-type {\n",
       "        vertical-align: middle;\n",
       "    }\n",
       "\n",
       "    .dataframe tbody tr th {\n",
       "        vertical-align: top;\n",
       "    }\n",
       "\n",
       "    .dataframe thead th {\n",
       "        text-align: right;\n",
       "    }\n",
       "</style>\n",
       "<table border=\"1\" class=\"dataframe\">\n",
       "  <thead>\n",
       "    <tr style=\"text-align: right;\">\n",
       "      <th></th>\n",
       "      <th>datetime</th>\n",
       "      <th>Vancouver</th>\n",
       "      <th>Portland</th>\n",
       "      <th>San Francisco</th>\n",
       "      <th>Seattle</th>\n",
       "      <th>Los Angeles</th>\n",
       "      <th>San Diego</th>\n",
       "      <th>Las Vegas</th>\n",
       "      <th>Phoenix</th>\n",
       "      <th>Albuquerque</th>\n",
       "      <th>...</th>\n",
       "      <th>Philadelphia</th>\n",
       "      <th>New York</th>\n",
       "      <th>Montreal</th>\n",
       "      <th>Boston</th>\n",
       "      <th>Beersheba</th>\n",
       "      <th>Tel Aviv District</th>\n",
       "      <th>Eilat</th>\n",
       "      <th>Haifa</th>\n",
       "      <th>Nahariyya</th>\n",
       "      <th>Jerusalem</th>\n",
       "    </tr>\n",
       "  </thead>\n",
       "  <tbody>\n",
       "    <tr>\n",
       "      <th>0</th>\n",
       "      <td>2012-10-01 12:00:00</td>\n",
       "      <td>NaN</td>\n",
       "      <td>NaN</td>\n",
       "      <td>NaN</td>\n",
       "      <td>NaN</td>\n",
       "      <td>NaN</td>\n",
       "      <td>NaN</td>\n",
       "      <td>NaN</td>\n",
       "      <td>NaN</td>\n",
       "      <td>NaN</td>\n",
       "      <td>...</td>\n",
       "      <td>NaN</td>\n",
       "      <td>NaN</td>\n",
       "      <td>NaN</td>\n",
       "      <td>NaN</td>\n",
       "      <td>NaN</td>\n",
       "      <td>NaN</td>\n",
       "      <td>309.100000</td>\n",
       "      <td>NaN</td>\n",
       "      <td>NaN</td>\n",
       "      <td>NaN</td>\n",
       "    </tr>\n",
       "    <tr>\n",
       "      <th>1</th>\n",
       "      <td>2012-10-01 13:00:00</td>\n",
       "      <td>284.630000</td>\n",
       "      <td>282.080000</td>\n",
       "      <td>289.480000</td>\n",
       "      <td>281.800000</td>\n",
       "      <td>291.870000</td>\n",
       "      <td>291.530000</td>\n",
       "      <td>293.410000</td>\n",
       "      <td>296.600000</td>\n",
       "      <td>285.120000</td>\n",
       "      <td>...</td>\n",
       "      <td>285.630000</td>\n",
       "      <td>288.220000</td>\n",
       "      <td>285.830000</td>\n",
       "      <td>287.170000</td>\n",
       "      <td>307.590000</td>\n",
       "      <td>305.470000</td>\n",
       "      <td>310.580000</td>\n",
       "      <td>304.4</td>\n",
       "      <td>304.4</td>\n",
       "      <td>303.5</td>\n",
       "    </tr>\n",
       "    <tr>\n",
       "      <th>2</th>\n",
       "      <td>2012-10-01 14:00:00</td>\n",
       "      <td>284.629041</td>\n",
       "      <td>282.083252</td>\n",
       "      <td>289.474993</td>\n",
       "      <td>281.797217</td>\n",
       "      <td>291.868186</td>\n",
       "      <td>291.533501</td>\n",
       "      <td>293.403141</td>\n",
       "      <td>296.608509</td>\n",
       "      <td>285.154558</td>\n",
       "      <td>...</td>\n",
       "      <td>285.663208</td>\n",
       "      <td>288.247676</td>\n",
       "      <td>285.834650</td>\n",
       "      <td>287.186092</td>\n",
       "      <td>307.590000</td>\n",
       "      <td>304.310000</td>\n",
       "      <td>310.495769</td>\n",
       "      <td>304.4</td>\n",
       "      <td>304.4</td>\n",
       "      <td>303.5</td>\n",
       "    </tr>\n",
       "    <tr>\n",
       "      <th>3</th>\n",
       "      <td>2012-10-01 15:00:00</td>\n",
       "      <td>284.626998</td>\n",
       "      <td>282.091866</td>\n",
       "      <td>289.460618</td>\n",
       "      <td>281.789833</td>\n",
       "      <td>291.862844</td>\n",
       "      <td>291.543355</td>\n",
       "      <td>293.392177</td>\n",
       "      <td>296.631487</td>\n",
       "      <td>285.233952</td>\n",
       "      <td>...</td>\n",
       "      <td>285.756824</td>\n",
       "      <td>288.326940</td>\n",
       "      <td>285.847790</td>\n",
       "      <td>287.231672</td>\n",
       "      <td>307.391513</td>\n",
       "      <td>304.281841</td>\n",
       "      <td>310.411538</td>\n",
       "      <td>304.4</td>\n",
       "      <td>304.4</td>\n",
       "      <td>303.5</td>\n",
       "    </tr>\n",
       "    <tr>\n",
       "      <th>4</th>\n",
       "      <td>2012-10-01 16:00:00</td>\n",
       "      <td>284.624955</td>\n",
       "      <td>282.100481</td>\n",
       "      <td>289.446243</td>\n",
       "      <td>281.782449</td>\n",
       "      <td>291.857503</td>\n",
       "      <td>291.553209</td>\n",
       "      <td>293.381213</td>\n",
       "      <td>296.654466</td>\n",
       "      <td>285.313345</td>\n",
       "      <td>...</td>\n",
       "      <td>285.850440</td>\n",
       "      <td>288.406203</td>\n",
       "      <td>285.860929</td>\n",
       "      <td>287.277251</td>\n",
       "      <td>307.145200</td>\n",
       "      <td>304.238015</td>\n",
       "      <td>310.327308</td>\n",
       "      <td>304.4</td>\n",
       "      <td>304.4</td>\n",
       "      <td>303.5</td>\n",
       "    </tr>\n",
       "  </tbody>\n",
       "</table>\n",
       "<p>5 rows × 37 columns</p>\n",
       "</div>"
      ],
      "text/plain": [
       "              datetime   Vancouver    Portland  San Francisco     Seattle  \\\n",
       "0  2012-10-01 12:00:00         NaN         NaN            NaN         NaN   \n",
       "1  2012-10-01 13:00:00  284.630000  282.080000     289.480000  281.800000   \n",
       "2  2012-10-01 14:00:00  284.629041  282.083252     289.474993  281.797217   \n",
       "3  2012-10-01 15:00:00  284.626998  282.091866     289.460618  281.789833   \n",
       "4  2012-10-01 16:00:00  284.624955  282.100481     289.446243  281.782449   \n",
       "\n",
       "   Los Angeles   San Diego   Las Vegas     Phoenix  Albuquerque    ...      \\\n",
       "0          NaN         NaN         NaN         NaN          NaN    ...       \n",
       "1   291.870000  291.530000  293.410000  296.600000   285.120000    ...       \n",
       "2   291.868186  291.533501  293.403141  296.608509   285.154558    ...       \n",
       "3   291.862844  291.543355  293.392177  296.631487   285.233952    ...       \n",
       "4   291.857503  291.553209  293.381213  296.654466   285.313345    ...       \n",
       "\n",
       "   Philadelphia    New York    Montreal      Boston   Beersheba  \\\n",
       "0           NaN         NaN         NaN         NaN         NaN   \n",
       "1    285.630000  288.220000  285.830000  287.170000  307.590000   \n",
       "2    285.663208  288.247676  285.834650  287.186092  307.590000   \n",
       "3    285.756824  288.326940  285.847790  287.231672  307.391513   \n",
       "4    285.850440  288.406203  285.860929  287.277251  307.145200   \n",
       "\n",
       "   Tel Aviv District       Eilat  Haifa  Nahariyya  Jerusalem  \n",
       "0                NaN  309.100000    NaN        NaN        NaN  \n",
       "1         305.470000  310.580000  304.4      304.4      303.5  \n",
       "2         304.310000  310.495769  304.4      304.4      303.5  \n",
       "3         304.281841  310.411538  304.4      304.4      303.5  \n",
       "4         304.238015  310.327308  304.4      304.4      303.5  \n",
       "\n",
       "[5 rows x 37 columns]"
      ]
     },
     "execution_count": 4,
     "metadata": {},
     "output_type": "execute_result"
    }
   ],
   "source": [
    "df = pd.read_csv('temperature.csv')\n",
    "df.head()"
   ]
  },
  {
   "cell_type": "code",
   "execution_count": 5,
   "metadata": {},
   "outputs": [
    {
     "name": "stdout",
     "output_type": "stream",
     "text": [
      "<class 'pandas.core.frame.DataFrame'>\n",
      "RangeIndex: 45253 entries, 0 to 45252\n",
      "Data columns (total 37 columns):\n",
      "datetime             45253 non-null object\n",
      "Vancouver            44458 non-null float64\n",
      "Portland             45252 non-null float64\n",
      "San Francisco        44460 non-null float64\n",
      "Seattle              45250 non-null float64\n",
      "Los Angeles          45250 non-null float64\n",
      "San Diego            45252 non-null float64\n",
      "Las Vegas            45252 non-null float64\n",
      "Phoenix              45250 non-null float64\n",
      "Albuquerque          45252 non-null float64\n",
      "Denver               45252 non-null float64\n",
      "San Antonio          45252 non-null float64\n",
      "Dallas               45249 non-null float64\n",
      "Houston              45250 non-null float64\n",
      "Kansas City          45252 non-null float64\n",
      "Minneapolis          45240 non-null float64\n",
      "Saint Louis          45252 non-null float64\n",
      "Chicago              45250 non-null float64\n",
      "Nashville            45251 non-null float64\n",
      "Indianapolis         45246 non-null float64\n",
      "Atlanta              45247 non-null float64\n",
      "Detroit              45252 non-null float64\n",
      "Jacksonville         45252 non-null float64\n",
      "Charlotte            45250 non-null float64\n",
      "Miami                44448 non-null float64\n",
      "Pittsburgh           45250 non-null float64\n",
      "Toronto              45252 non-null float64\n",
      "Philadelphia         45250 non-null float64\n",
      "New York             44460 non-null float64\n",
      "Montreal             45250 non-null float64\n",
      "Boston               45250 non-null float64\n",
      "Beersheba            44455 non-null float64\n",
      "Tel Aviv District    44460 non-null float64\n",
      "Eilat                44461 non-null float64\n",
      "Haifa                44455 non-null float64\n",
      "Nahariyya            44456 non-null float64\n",
      "Jerusalem            44460 non-null float64\n",
      "dtypes: float64(36), object(1)\n",
      "memory usage: 12.8+ MB\n"
     ]
    }
   ],
   "source": [
    "df.info()"
   ]
  },
  {
   "cell_type": "code",
   "execution_count": 6,
   "metadata": {},
   "outputs": [
    {
     "data": {
      "text/plain": [
       "<matplotlib.axes._subplots.AxesSubplot at 0x7f466a0c1f98>"
      ]
     },
     "execution_count": 6,
     "metadata": {},
     "output_type": "execute_result"
    },
    {
     "data": {
      "image/png": "[encoded data removed]",
      "text/plain": [
       "<Figure size 432x288 with 1 Axes>"
      ]
     },
     "metadata": {
      "needs_background": "light"
     },
     "output_type": "display_data"
    }
   ],
   "source": [
    "san_diego = df['San Diego']\n",
    "san_diego.plot.hist(bins=100)"
   ]
  },
  {
   "cell_type": "code",
   "execution_count": 10,
   "metadata": {},
   "outputs": [
    {
     "data": {
      "text/plain": [
       "count    45252.000000\n",
       "mean       290.215044\n",
       "std          5.889992\n",
       "min        265.783333\n",
       "25%        286.254750\n",
       "50%        290.118750\n",
       "75%        294.107542\n",
       "max        313.360000\n",
       "Name: San Diego, dtype: float64"
      ]
     },
     "execution_count": 10,
     "metadata": {},
     "output_type": "execute_result"
    }
   ],
   "source": [
    "san_diego.describe()"
   ]
  },
  {
   "cell_type": "markdown",
   "metadata": {},
   "source": [
    "Take the temperature in 2016"
   ]
  },
  {
   "cell_type": "code",
   "execution_count": 112,
   "metadata": {},
   "outputs": [
    {
     "data": {
      "text/plain": [
       "28476    289.164514\n",
       "28477    288.020000\n",
       "28478    281.512194\n",
       "28479    284.450000\n",
       "28480    283.443253\n",
       "28481    282.350000\n",
       "28482    282.020000\n",
       "28483    280.730000\n",
       "28484    280.091962\n",
       "28485    280.840000\n",
       "28486    279.820000\n",
       "28487    280.000000\n",
       "28488    279.938838\n",
       "28489    279.800000\n",
       "28490    278.850000\n",
       "28491    278.500000\n",
       "28492    281.930000\n",
       "28493    281.957698\n",
       "28494    286.430000\n",
       "28495    289.970000\n",
       "28496    290.430000\n",
       "28497    290.481242\n",
       "28498    290.620000\n",
       "28499    288.737888\n",
       "28500    289.380000\n",
       "28501    287.837325\n",
       "28502    286.180000\n",
       "28503    284.362079\n",
       "28504    282.450000\n",
       "28505    280.800000\n",
       "            ...    \n",
       "37206    291.480000\n",
       "37207    295.130000\n",
       "37208    298.740000\n",
       "37209    299.980000\n",
       "37210    300.500000\n",
       "37211    298.930000\n",
       "37212    296.760000\n",
       "37213    294.240000\n",
       "37214    293.000000\n",
       "37215    291.330000\n",
       "37216    290.390000\n",
       "37217    289.220000\n",
       "37218    288.470000\n",
       "37219    287.770000\n",
       "37220    287.770000\n",
       "37221    286.550000\n",
       "37222    286.500000\n",
       "37223    285.980000\n",
       "37224    284.550000\n",
       "37225    284.030000\n",
       "37226    284.540000\n",
       "37227    285.220000\n",
       "37228    285.040000\n",
       "37229    285.960000\n",
       "37230    286.300000\n",
       "37231    286.150000\n",
       "37232    286.600000\n",
       "37233    286.640000\n",
       "37234    288.300000\n",
       "37235    288.970000\n",
       "Name: San Diego, Length: 8760, dtype: float64"
      ]
     },
     "execution_count": 112,
     "metadata": {},
     "output_type": "execute_result"
    }
   ],
   "source": [
    "san_diego2016 = df[df.datetime.between('2016-01-01', '2016-12-31')]['San Diego']\n",
    "san_diego2016"
   ]
  },
  {
   "cell_type": "code",
   "execution_count": 113,
   "metadata": {},
   "outputs": [
    {
     "data": {
      "text/plain": [
       "<matplotlib.axes._subplots.AxesSubplot at 0x7f46548f5588>"
      ]
     },
     "execution_count": 113,
     "metadata": {},
     "output_type": "execute_result"
    },
    {
     "data": {
      "image/png": "[encoded data removed]",
      "text/plain": [
       "<Figure size 432x288 with 1 Axes>"
      ]
     },
     "metadata": {
      "needs_background": "light"
     },
     "output_type": "display_data"
    }
   ],
   "source": [
    "san_diego2016.plot.hist(bins=100)"
   ]
  },
  {
   "cell_type": "code",
   "execution_count": 114,
   "metadata": {},
   "outputs": [
    {
     "data": {
      "text/plain": [
       "count    8760.000000\n",
       "mean      290.758129\n",
       "std         5.606392\n",
       "min       274.274000\n",
       "25%       286.750000\n",
       "50%       290.235000\n",
       "75%       294.142500\n",
       "max       313.360000\n",
       "Name: San Diego, dtype: float64"
      ]
     },
     "execution_count": 114,
     "metadata": {},
     "output_type": "execute_result"
    }
   ],
   "source": [
    "description_san_diego2016 = san_diego2016.describe()\n",
    "description_san_diego2016"
   ]
  },
  {
   "cell_type": "code",
   "execution_count": 115,
   "metadata": {},
   "outputs": [
    {
     "name": "stderr",
     "output_type": "stream",
     "text": [
      "/home/jonathan/.virtualenvs/statistic/lib/python3.6/site-packages/matplotlib/axes/_axes.py:6510: MatplotlibDeprecationWarning: \n",
      "The 'normed' kwarg was deprecated in Matplotlib 2.1 and will be removed in 3.1. Use 'density' instead.\n",
      "  alternative=\"'density'\", removal=\"3.1\")\n"
     ]
    },
    {
     "data": {
      "image/png": "[encoded data removed]",
      "text/plain": [
       "<Figure size 432x288 with 1 Axes>"
      ]
     },
     "metadata": {
      "needs_background": "light"
     },
     "output_type": "display_data"
    }
   ],
   "source": [
    "# Plot between -10 and 10 with .001 steps.\n",
    "x_axis = np.arange(275, 314, 0.1)\n",
    "plt.hist(san_diego2016, normed=True, bins=100)\n",
    "plt.plot(x_axis, stats.norm.pdf(x_axis,description_san_diego2016['mean'],description_san_diego2016['std']), 'g')\n",
    "plt.show()"
   ]
  },
  {
   "cell_type": "markdown",
   "metadata": {},
   "source": [
    "It's seems that the temperature in San Diego on 2016 is distributed as a normal distribution. However, If we want to be more precisly, we should plot a [Q-Q plot](https://en.wikipedia.org/wiki/Q%E2%80%93Q_plot). "
   ]
  },
  {
   "cell_type": "code",
   "execution_count": 116,
   "metadata": {},
   "outputs": [
    {
     "data": {
      "image/png": "[encoded data removed]",
      "text/plain": [
       "<Figure size 432x288 with 1 Axes>"
      ]
     },
     "metadata": {
      "needs_background": "light"
     },
     "output_type": "display_data"
    }
   ],
   "source": [
    "import statsmodels.api as sm\n",
    "stats.probplot(san_diego2016, sparams=(description_san_diego2016['mean'], description_san_diego2016['std']), plot=plt)\n",
    "plt.show()"
   ]
  },
  {
   "cell_type": "markdown",
   "metadata": {},
   "source": [
    "## Test hypothesis"
   ]
  },
  {
   "cell_type": "markdown",
   "metadata": {},
   "source": [
    "The temperatures given in the dataset is in Kelvin. To convert from Kelvin to ºC use [ºC]=[K]-273.15"
   ]
  },
  {
   "cell_type": "code",
   "execution_count": 117,
   "metadata": {},
   "outputs": [
    {
     "data": {
      "text/plain": [
       "count    8760.000000\n",
       "mean       17.608129\n",
       "std         5.606392\n",
       "min         1.124000\n",
       "25%        13.600000\n",
       "50%        17.085000\n",
       "75%        20.992500\n",
       "max        40.210000\n",
       "Name: San Diego, dtype: float64"
      ]
     },
     "execution_count": 117,
     "metadata": {},
     "output_type": "execute_result"
    }
   ],
   "source": [
    "san_diego2016C = san_diego2016.map(lambda x: x - 273.15)\n",
    "description_san_diego2016C = san_diego2016C.describe()\n",
    "description_san_diego2016C"
   ]
  },
  {
   "cell_type": "code",
   "execution_count": 119,
   "metadata": {},
   "outputs": [],
   "source": [
    "assert san_diego2016C.describe()['mean'] - (description_san_diego2016['mean'] - 273.15) < 10**-13\n",
    "assert san_diego2016C.describe()['std'] == description_san_diego2016['std']"
   ]
  },
  {
   "cell_type": "markdown",
   "metadata": {},
   "source": [
    "So, the hypothesis will be:\n",
    "\\begin{align}\n",
    "{\\bf{H_{0}}}: \\text{The annual average temperature of San Diego is above 18 °C}\\\\\n",
    "{\\bf{H_{A}}}: \\text{The annual average temperature of San Diego is less than 18 °C}\\\\\n",
    "\\end{align}\n",
    "\n",
    "It's mean:\n",
    "\\begin{align}\n",
    "{\\bf{H_{0}}}: \\mu > 18\\\\\n",
    "{\\bf{H_{A}}}: \\mu <= 18\\\\\n",
    "\\end{align}\n",
    "\n",
    "Where:\n",
    "\\begin{align}\n",
    "z_{p} = \\frac{\\bar{X} - \\mu}{{S}/{\\sqrt{n}}} \\\\\n",
    "{\\bf{H_{0}}}: z_{p} \\text{ is distributed by } N(0, 1)\\\\\n",
    "{\\bf{H_{A}}}: \\mu_{z_{p}} > 0\\\\\n",
    "\\end{align}"
   ]
  },
  {
   "cell_type": "markdown",
   "metadata": {},
   "source": [
    "Because $\\sigma^2$ is not given, we have to estimate with the estimator $S^2$. So, we have two options:\n",
    "    - Z-test: with normal distribution.\n",
    "    - T-test: with students distribution.\n",
    "I think Z-test will fit our problem because we have a large amount of data 8760 samples to be exaclty.\n",
    "\n",
    "$\\alpha = 5 \\%$\n",
    "\n",
    "$p-value = P_{H_{0}}(Z <= z) < \\alpha$"
   ]
  },
  {
   "cell_type": "code",
   "execution_count": 144,
   "metadata": {},
   "outputs": [
    {
     "data": {
      "text/plain": [
       "True"
      ]
     },
     "execution_count": 144,
     "metadata": {},
     "output_type": "execute_result"
    }
   ],
   "source": [
    "mu = 18\n",
    "alpha = 0.05\n",
    "z_value = sqrt(description_san_diego2016C['count']) * (description_san_diego2016C['mean'] - mu) / description_san_diego2016C['std']\n",
    "p_value = stats.norm.pdf(z_value)\n",
    "p_value <= alpha"
   ]
  },
  {
   "cell_type": "markdown",
   "metadata": {},
   "source": [
    "Because $p-value <= \\alpha$, we can say that we accept the alternative hypothesis which means that the annual temperature of San Diego is less than 18°C, so that the $h$ doesn't correspond to San Diego."
   ]
  }
 ],
 "metadata": {
  "kernelspec": {
   "display_name": "Python 3",
   "language": "python",
   "name": "python3"
  },
  "language_info": {
   "codemirror_mode": {
    "name": "ipython",
    "version": 3
   },
   "file_extension": ".py",
   "mimetype": "text/x-python",
   "name": "python",
   "nbconvert_exporter": "python",
   "pygments_lexer": "ipython3",
   "version": "3.6.6"
  }
 },
 "nbformat": 4,
 "nbformat_minor": 2
}
