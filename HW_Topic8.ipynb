{
 "cells": [
  {
   "cell_type": "markdown",
   "metadata": {},
   "source": [
    "<font size=\"4\" style=\"color:red;\"> **IMPORTANT: ** When submitting this homework notebook, please modify only the cells that start with:</font>\n",
    "\n",
    "```python\n",
    "# modify this cell\n",
    "```\n",
    "\n",
    "<font style=\"color:red;\"> Do not add any new cells. To test out new code, use the coding **scratchpad** by clicking the triangular icon in the bottom right corner of the screen. (**hotkey:** control-B)  </font>"
   ]
  },
  {
   "cell_type": "markdown",
   "metadata": {},
   "source": [
    "## The Poisson-binomial Distribution"
   ]
  },
  {
   "cell_type": "markdown",
   "metadata": {},
   "source": [
    "In the binomial distribution, $n$ Bernoulli variables $X_1,...,X_n$ are distributed \n",
    "independently $\\sim B(p)$ with the same success probability $p$,\n",
    "and $X=\\sum_{i=1}^n X_i$. We have seen that \n",
    "$$P(X=k)=\\binom nk \\cdot p^k\\cdot \\overline p^{n-k}.$$\n",
    "\n",
    "In the Poisson-binomial distribution, again $n$ Bernoulli variables (sometimes called\n",
    "<i>Poisson trials</i>) are distributed independently, and again $X=\\sum_{i=1}^n X_i$.\n",
    "However, now each $X_i\\sim B(p_i)$ where the $p_i$'s may differ. \n",
    "\n",
    "For the Poisson-binomial distribution, $P(X=k)$ does not have a simple formula, but it can be \n",
    "computed numerically. One way is to determine all $k$-subsets of \n",
    "$\\{1,...,n\\}$, and for each such subset $S$ claculate the\n",
    "probability that $X_i$ is $1$ iff $i\\in S$, and then sum these probabilities. \n",
    "\n",
    "For example, for $[p_1,p_2,p_3]=[0.4, 0.3, 0.8]$, and $k=2$. \n",
    "The $2$-subsets of $\\{1,2,3\\}$ and the corresponding probabilties that $X_i$ is one iff $i$ is in the subset are\n",
    "\n",
    "$$\n",
    "\\{1,2\\}\\quad 0.024\\\\\n",
    "\\{1,3\\}\\quad 0.224\\\\\n",
    "\\{2,3\\}\\quad 0.144\\\\\n",
    "$$\n",
    "hence,\n",
    "$$P(X=k)=0.024+0.224+0.144=0.392.$$"
   ]
  },
  {
   "cell_type": "markdown",
   "metadata": {},
   "source": [
    "### Exercise 1"
   ]
  },
  {
   "cell_type": "markdown",
   "metadata": {},
   "source": [
    "Using the above method , write a function **pmf_sum** that takes a vector $\\boldsymbol p=[p_1, p_2, \\ldots, p_n]$ of length $\\ge 1$ and a natural number $k$, and outputs $P(X=k)$.\n",
    "\n",
    "<font  style=\"color:blue\"> * **Sample run:** *</font>\n",
    "```python\n",
    "pmf_sum([0.4, 0.3, 0.8], 2)\n",
    "```\n",
    "\n",
    "<font  style=\"color:magenta\"> * **Expected Output:** *</font>\n",
    "```\n",
    "0.392\n",
    "```"
   ]
  },
  {
   "cell_type": "code",
   "execution_count": 126,
   "metadata": {
    "scrolled": true
   },
   "outputs": [],
   "source": [
    "# modify this cell\n",
    "import numpy as np\n",
    "import itertools\n",
    "def findsubsets(S,m):\n",
    "    return set(itertools.combinations(S, m))\n",
    "\n",
    "def pmf_sum(p, k):\n",
    "    X_i = set(range(len(p)))\n",
    "    \n",
    "    sets = findsubsets(X_i, k)\n",
    "    prob = np.array(p)\n",
    "    neg_prob = 1 - prob\n",
    "    prob_i = 0\n",
    "\n",
    "    for tup in sets:\n",
    "        X_pos = set(tup)\n",
    "        X_neg = X_i - X_pos\n",
    "        \n",
    "        prob_i += np.prod(prob[list(X_pos)]) * np.prod(neg_prob[list(X_neg)])\n",
    "\n",
    "    return prob_i\n",
    "        "
   ]
  },
  {
   "cell_type": "code",
   "execution_count": 127,
   "metadata": {},
   "outputs": [
    {
     "data": {
      "text/plain": [
       "0.39200000000000002"
      ]
     },
     "execution_count": 127,
     "metadata": {},
     "output_type": "execute_result"
    }
   ],
   "source": [
    "pmf_sum([0.4, 0.3, 0.8], 2)"
   ]
  },
  {
   "cell_type": "code",
   "execution_count": 128,
   "metadata": {},
   "outputs": [],
   "source": [
    "# Check Function\n",
    "\n",
    "assert abs(pmf_sum([0.2, 0.3, 0.4, 0.1], 2)-0.2144)<1e-1\n",
    "assert abs(pmf_sum([0.7, 0.7, 0.8,0.3,0.1], 4)-0.1463)<1e-1"
   ]
  },
  {
   "cell_type": "code",
   "execution_count": 129,
   "metadata": {},
   "outputs": [
    {
     "data": {
      "text/plain": [
       "0.33212800000000015"
      ]
     },
     "execution_count": 129,
     "metadata": {},
     "output_type": "execute_result"
    }
   ],
   "source": [
    "pmf_sum([0.1,0.6,0.8,0.6,0.2,0.6,0.3],3)"
   ]
  },
  {
   "cell_type": "code",
   "execution_count": null,
   "metadata": {},
   "outputs": [],
   "source": []
  }
 ],
 "metadata": {
  "kernelspec": {
   "display_name": "Python 3",
   "language": "python",
   "name": "python3"
  },
  "language_info": {
   "codemirror_mode": {
    "name": "ipython",
    "version": 3
   },
   "file_extension": ".py",
   "mimetype": "text/x-python",
   "name": "python",
   "nbconvert_exporter": "python",
   "pygments_lexer": "ipython3",
   "version": "3.5.2"
  },
  "toc": {
   "base_numbering": 1,
   "nav_menu": {
    "height": "48px",
    "width": "252px"
   },
   "number_sections": true,
   "sideBar": true,
   "skip_h1_title": false,
   "title_cell": "Table of Contents",
   "title_sidebar": "Contents",
   "toc_cell": false,
   "toc_position": {},
   "toc_section_display": "block",
   "toc_window_display": false
  },
  "varInspector": {
   "cols": {
    "lenName": 16,
    "lenType": 16,
    "lenVar": 40
   },
   "kernels_config": {
    "python": {
     "delete_cmd_postfix": "",
     "delete_cmd_prefix": "del ",
     "library": "var_list.py",
     "varRefreshCmd": "print(var_dic_list())"
    },
    "r": {
     "delete_cmd_postfix": ") ",
     "delete_cmd_prefix": "rm(",
     "library": "var_list.r",
     "varRefreshCmd": "cat(var_dic_list()) "
    }
   },
   "types_to_exclude": [
    "module",
    "function",
    "builtin_function_or_method",
    "instance",
    "_Feature"
   ],
   "window_display": false
  }
 },
 "nbformat": 4,
 "nbformat_minor": 2
}
